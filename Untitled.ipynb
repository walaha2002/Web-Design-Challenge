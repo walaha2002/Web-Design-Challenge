{
 "cells": [
  {
   "cell_type": "code",
   "execution_count": 1,
   "metadata": {},
   "outputs": [
    {
     "name": "stdout",
     "output_type": "stream",
     "text": [
      "Collecting prettytable\n",
      "  Downloading prettytable-2.0.0-py3-none-any.whl (22 kB)\n",
      "Requirement already satisfied: setuptools in c:\\users\\whall\\anaconda3\\lib\\site-packages (from prettytable) (45.2.0.post20200210)\n",
      "Requirement already satisfied: wcwidth in c:\\users\\whall\\anaconda3\\lib\\site-packages (from prettytable) (0.1.8)\n",
      "Installing collected packages: prettytable\n",
      "Successfully installed prettytable-2.0.0\n"
     ]
    }
   ],
   "source": [
    "!pip install prettytable"
   ]
  },
  {
   "cell_type": "code",
   "execution_count": null,
   "metadata": {},
   "outputs": [],
   "source": [
    "from prettytable import PrettyTable"
   ]
  }
 ],
 "metadata": {
  "kernelspec": {
   "display_name": "Python 3",
   "language": "python",
   "name": "python3"
  },
  "language_info": {
   "codemirror_mode": {
    "name": "ipython",
    "version": 3
   },
   "file_extension": ".py",
   "mimetype": "text/x-python",
   "name": "python",
   "nbconvert_exporter": "python",
   "pygments_lexer": "ipython3",
   "version": "3.7.6"
  }
 },
 "nbformat": 4,
 "nbformat_minor": 4
}
